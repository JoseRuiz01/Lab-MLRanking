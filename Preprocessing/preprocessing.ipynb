{
 "cells": [
  {
   "cell_type": "code",
   "execution_count": 19,
   "metadata": {},
   "outputs": [
    {
     "name": "stdout",
     "output_type": "stream",
     "text": [
      "  loinc_num                                   long_common_name  \\\n",
      "0    1988-5  C reactive protein [Mass/volume] in Serum or P...   \n",
      "1    1959-6                Bicarbonate [Moles/volume] in Blood   \n",
      "2   10331-7                                 Rh [Type] in Blood   \n",
      "3   18998-5     Trimethoprim+Sulfamethoxazole [Susceptibility]   \n",
      "4    1975-2   Bilirubin.total [Mass/volume] in Serum or Plasma   \n",
      "\n",
      "                       component    system property  \n",
      "0             C reactive protein  Ser/Plas     MCnc  \n",
      "1                    Bicarbonate       Bld     SCnc  \n",
      "2                             Rh       Bld     Type  \n",
      "3  Trimethoprim+Sulfamethoxazole   Isolate     Susc  \n",
      "4                      Bilirubin  Ser/Plas     MCnc  \n"
     ]
    }
   ],
   "source": [
    "import pandas as pd\n",
    "import re\n",
    "import string\n",
    "import nltk\n",
    "from nltk.corpus import stopwords\n",
    "from nltk.stem import WordNetLemmatizer\n",
    "\n",
    "# Load the Excel file\n",
    "file_path = \"C:/Users/bilk7/OneDrive/Bureau/Cours/M1/Information Retrieval/Project3/Lab-MLRankingAssignment/loinc_dataset-v2.xlsx\"\n",
    "# Skip first 2 rows \n",
    "df = pd.read_excel(file_path, skiprows=2)\n",
    "\n",
    "print(df.head())"
   ]
  },
  {
   "cell_type": "code",
   "execution_count": 20,
   "metadata": {},
   "outputs": [
    {
     "name": "stdout",
     "output_type": "stream",
     "text": [
      "                                     name                      component  \\\n",
      "0  C reactive protein  in Serum or Plasma             C reactive protein   \n",
      "1                   Bicarbonate  in Blood                    Bicarbonate   \n",
      "2                            Rh  in Blood                             Rh   \n",
      "3           Trimethoprim+Sulfamethoxazole  Trimethoprim+Sulfamethoxazole   \n",
      "4     Bilirubin.total  in Serum or Plasma                      Bilirubin   \n",
      "\n",
      "     system property measurement_type  \n",
      "0  Ser/Plas     MCnc      Mass/volume  \n",
      "1       Bld     SCnc     Moles/volume  \n",
      "2       Bld     Type             Type  \n",
      "3   Isolate     Susc   Susceptibility  \n",
      "4  Ser/Plas     MCnc      Mass/volume  \n"
     ]
    }
   ],
   "source": [
    "# Select only relevant columns\n",
    "df = df[[\"long_common_name\", \"component\",\"system\",\"property\"]]\n",
    "\n",
    "df.rename(columns={\"long_common_name\": \"name\"}, inplace=True)\n",
    "\n",
    "# Extract measurement type from brackets [] to create a new column\n",
    "df[\"measurement_type\"] = df[\"name\"].apply(lambda x: re.findall(r\"\\[(.*?)\\]\", x)[0] if \"[\" in x else \"\")\n",
    "\n",
    "# Remove measurement type from name\n",
    "df[\"name\"] = df[\"name\"].apply(lambda x: re.sub(r\"\\[.*?\\]\", \"\", x).strip() if isinstance(x, str) else x)\n",
    "\n",
    "# Display first few rows\n",
    "print(df.head())"
   ]
  },
  {
   "cell_type": "code",
   "execution_count": 21,
   "metadata": {},
   "outputs": [
    {
     "name": "stderr",
     "output_type": "stream",
     "text": [
      "[nltk_data] Downloading package stopwords to\n",
      "[nltk_data]     C:\\Users\\bilk7\\AppData\\Roaming\\nltk_data...\n",
      "[nltk_data]   Package stopwords is already up-to-date!\n",
      "[nltk_data] Downloading package wordnet to\n",
      "[nltk_data]     C:\\Users\\bilk7\\AppData\\Roaming\\nltk_data...\n",
      "[nltk_data]   Package wordnet is already up-to-date!\n"
     ]
    }
   ],
   "source": [
    "# Abbreviation mapping dictionary\n",
    "abbreviation_mapping = {\n",
    "    'c': 'component',\n",
    "    'mcnc': 'mass concentration',\n",
    "    'bld': 'blood',\n",
    "    'scnc': 'substance concentration',\n",
    "    'susc': 'susceptibility',\n",
    "    'acnc': 'amount concentration',\n",
    "    'plas': 'plasma',\n",
    "    'ccnc': 'cell concentration',\n",
    "    'ncnc': 'number concentration',\n",
    "    'XXX': 'unknown',\n",
    "    '^bpu': 'body part or unit',\n",
    "    'fld': 'field',\n",
    "    'abo': 'abo blood group',\n",
    "    'ser': 'serum',\n",
    "    'mscnc': 'mass substance concentration'\n",
    "}\n",
    "\n",
    "# Download necessary resources\n",
    "nltk.download(\"stopwords\")\n",
    "nltk.download(\"wordnet\")\n",
    "\n",
    "# Initialize tools\n",
    "stop_words = set(stopwords.words(\"english\"))\n",
    "lemmatizer = WordNetLemmatizer()"
   ]
  },
  {
   "cell_type": "code",
   "execution_count": 22,
   "metadata": {},
   "outputs": [
    {
     "name": "stdout",
     "output_type": "stream",
     "text": [
      "                                       name                      component  \\\n",
      "0   component reactive protein serum plasma     component reactive protein   \n",
      "1                         bicarbonate blood                    bicarbonate   \n",
      "2                                  rh blood                             rh   \n",
      "3             trimethoprim sulfamethoxazole  trimethoprim sulfamethoxazole   \n",
      "4              bilirubin total serum plasma                      bilirubin   \n",
      "5  blood group antibody screen serum plasma    blood group antibody screen   \n",
      "6                carbon dioxide total blood                 carbon dioxide   \n",
      "7                             ciprofloxacin                  ciprofloxacin   \n",
      "8                     cortisol serum plasma                       cortisol   \n",
      "9                     chloride serum plasma                       chloride   \n",
      "\n",
      "         system                 property measurement_type  \n",
      "0  serum plasma       mass concentration      mass volume  \n",
      "1         blood  substance concentration      mole volume  \n",
      "2         blood                     type             type  \n",
      "3       isolate           susceptibility   susceptibility  \n",
      "4  serum plasma       mass concentration      mass volume  \n",
      "5  serum plasma     amount concentration         presence  \n",
      "6         blood  substance concentration      mole volume  \n",
      "7       isolate           susceptibility   susceptibility  \n",
      "8  serum plasma       mass concentration      mass volume  \n",
      "9  serum plasma  substance concentration      mole volume  \n"
     ]
    }
   ],
   "source": [
    "# Standardization and Cleaning\n",
    "def clean_text(text):\n",
    "    if isinstance(text, str):\n",
    "        text = text.lower()  # Lowercase\n",
    "        text = re.sub(r'[^\\w\\s]', ' ', text)  # Replace any punctuation with space\n",
    "        words = text.split()  # Tokenize\n",
    "        words = [word for word in words if word not in stop_words]  # Remove stopwords\n",
    "        words = [lemmatizer.lemmatize(word) for word in words]  # Lemmatization\n",
    "        return \" \".join(words)\n",
    "    return \"\"\n",
    "\n",
    "# Function to replace abbreviations\n",
    "def replace_abbreviations(text):\n",
    "    if isinstance(text, str):\n",
    "        words = text.split()\n",
    "        words = [abbreviation_mapping.get(word, word) for word in words]  # Replace if in dictionary\n",
    "        return \" \".join(words)\n",
    "    return text\n",
    "\n",
    "# Apply cleaning to text columns\n",
    "for col in df.select_dtypes(include=[\"object\"]).columns:\n",
    "    df[col] = df[col].apply(clean_text)\n",
    "    df[col] = df[col].apply(replace_abbreviations)\n",
    "\n",
    "print(df.head(10))"
   ]
  },
  {
   "cell_type": "code",
   "execution_count": null,
   "metadata": {},
   "outputs": [],
   "source": []
  }
 ],
 "metadata": {
  "kernelspec": {
   "display_name": "Python 3",
   "language": "python",
   "name": "python3"
  },
  "language_info": {
   "codemirror_mode": {
    "name": "ipython",
    "version": 3
   },
   "file_extension": ".py",
   "mimetype": "text/x-python",
   "name": "python",
   "nbconvert_exporter": "python",
   "pygments_lexer": "ipython3",
   "version": "3.13.1"
  }
 },
 "nbformat": 4,
 "nbformat_minor": 2
}
