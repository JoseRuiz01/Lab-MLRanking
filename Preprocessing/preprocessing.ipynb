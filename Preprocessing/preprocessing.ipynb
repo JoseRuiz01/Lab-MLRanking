{
 "cells": [
  {
   "cell_type": "code",
   "execution_count": 18,
   "metadata": {},
   "outputs": [
    {
     "name": "stdout",
     "output_type": "stream",
     "text": [
      "  loinc_num                                   long_common_name  \\\n",
      "0    1988-5  C reactive protein [Mass/volume] in Serum or P...   \n",
      "1    1959-6                Bicarbonate [Moles/volume] in Blood   \n",
      "2   10331-7                                 Rh [Type] in Blood   \n",
      "3   18998-5     Trimethoprim+Sulfamethoxazole [Susceptibility]   \n",
      "4    1975-2   Bilirubin.total [Mass/volume] in Serum or Plasma   \n",
      "\n",
      "                       component    system property  \n",
      "0             C reactive protein  Ser/Plas     MCnc  \n",
      "1                    Bicarbonate       Bld     SCnc  \n",
      "2                             Rh       Bld     Type  \n",
      "3  Trimethoprim+Sulfamethoxazole   Isolate     Susc  \n",
      "4                      Bilirubin  Ser/Plas     MCnc  \n"
     ]
    }
   ],
   "source": [
    "import pandas as pd\n",
    "import re\n",
    "import string\n",
    "import nltk\n",
    "from nltk.corpus import stopwords\n",
    "from nltk.stem import WordNetLemmatizer\n",
    "\n",
    "# Load the Excel file\n",
    "file_path = \"C:/Users/bilk7/OneDrive/Bureau/Cours/M1/Information Retrieval/Project3/Lab-MLRankingAssignment/loinc_dataset-v2.xlsx\"\n",
    "# Skip first 2 rows \n",
    "df = pd.read_excel(file_path, skiprows=2)\n",
    "\n",
    "print(df.head())"
   ]
  },
  {
   "cell_type": "code",
   "execution_count": 19,
   "metadata": {},
   "outputs": [
    {
     "name": "stdout",
     "output_type": "stream",
     "text": [
      "                                                name  \\\n",
      "0  C reactive protein [Mass/volume] in Serum or P...   \n",
      "1                Bicarbonate [Moles/volume] in Blood   \n",
      "2                                 Rh [Type] in Blood   \n",
      "3     Trimethoprim+Sulfamethoxazole [Susceptibility]   \n",
      "4   Bilirubin.total [Mass/volume] in Serum or Plasma   \n",
      "\n",
      "                       component    system property  \n",
      "0             C reactive protein  Ser/Plas     MCnc  \n",
      "1                    Bicarbonate       Bld     SCnc  \n",
      "2                             Rh       Bld     Type  \n",
      "3  Trimethoprim+Sulfamethoxazole   Isolate     Susc  \n",
      "4                      Bilirubin  Ser/Plas     MCnc  \n"
     ]
    }
   ],
   "source": [
    "# Select only relevant columns\n",
    "df = df[[\"long_common_name\", \"component\",\"system\",\"property\"]]\n",
    "\n",
    "df.rename(columns={\"long_common_name\": \"name\"}, inplace=True)\n",
    "\n",
    "# Display first few rows\n",
    "print(df.head())"
   ]
  },
  {
   "cell_type": "code",
   "execution_count": 20,
   "metadata": {},
   "outputs": [
    {
     "name": "stderr",
     "output_type": "stream",
     "text": [
      "[nltk_data] Downloading package stopwords to\n",
      "[nltk_data]     C:\\Users\\bilk7\\AppData\\Roaming\\nltk_data...\n",
      "[nltk_data]   Package stopwords is already up-to-date!\n",
      "[nltk_data] Downloading package wordnet to\n",
      "[nltk_data]     C:\\Users\\bilk7\\AppData\\Roaming\\nltk_data...\n",
      "[nltk_data]   Package wordnet is already up-to-date!\n"
     ]
    }
   ],
   "source": [
    "# Download necessary resources\n",
    "nltk.download(\"stopwords\")\n",
    "nltk.download(\"wordnet\")\n",
    "\n",
    "# Initialize tools\n",
    "stop_words = set(stopwords.words(\"english\"))\n",
    "lemmatizer = WordNetLemmatizer()"
   ]
  },
  {
   "cell_type": "code",
   "execution_count": 26,
   "metadata": {},
   "outputs": [
    {
     "name": "stdout",
     "output_type": "stream",
     "text": [
      "                                       name                      component  \\\n",
      "0           c reactive protein serum plasma             c reactive protein   \n",
      "1                         bicarbonate blood                    bicarbonate   \n",
      "2                                  rh blood                             rh   \n",
      "3             trimethoprim sulfamethoxazole  trimethoprim sulfamethoxazole   \n",
      "4              bilirubin total serum plasma                      bilirubin   \n",
      "5  blood group antibody screen serum plasma    blood group antibody screen   \n",
      "6                carbon dioxide total blood                 carbon dioxide   \n",
      "7                             ciprofloxacin                  ciprofloxacin   \n",
      "8                     cortisol serum plasma                       cortisol   \n",
      "9                     chloride serum plasma                       chloride   \n",
      "\n",
      "     system property measurement_type  \n",
      "0  ser plas     mcnc                   \n",
      "1       bld     scnc                   \n",
      "2       bld     type                   \n",
      "3   isolate     susc                   \n",
      "4  ser plas     mcnc                   \n",
      "5  ser plas     acnc                   \n",
      "6       bld     scnc                   \n",
      "7   isolate     susc                   \n",
      "8  ser plas     mcnc                   \n",
      "9  ser plas     scnc                   \n"
     ]
    }
   ],
   "source": [
    "# Extract measurement type from brackets [] to create a new column\n",
    "df[\"measurement_type\"] = df[\"name\"].apply(lambda x: re.findall(r\"\\[(.*?)\\]\", x)[0] if \"[\" in x else \"\")\n",
    "\n",
    "# Remove measurement type from name\n",
    "df[\"name\"] = df[\"name\"].apply(lambda x: re.sub(r\"\\[.*?\\]\", \"\", x).strip() if isinstance(x, str) else x)\n",
    "\n",
    "#Standardization and Cleaning\n",
    "def clean_text(text):\n",
    "    if isinstance(text, str):\n",
    "        text = text.lower()  # Lowercase\n",
    "        text = re.sub(r'[^\\w\\s]', ' ', text)  # Replace any punctuation with space\n",
    "        words = text.split()  # Tokenize\n",
    "        words = [word for word in words if word not in stop_words]  # Remove stopwords\n",
    "        words = [lemmatizer.lemmatize(word) for word in words]  # Lemmatization\n",
    "        return \" \".join(words)\n",
    "    return \"\"\n",
    "\n",
    "\n",
    "# Apply cleaning to text columns\n",
    "for col in df.select_dtypes(include=[\"object\"]).columns:\n",
    "    df[col] = df[col].apply(clean_text)\n",
    "\n",
    "print(df.head(10))"
   ]
  },
  {
   "cell_type": "code",
   "execution_count": null,
   "metadata": {},
   "outputs": [],
   "source": []
  }
 ],
 "metadata": {
  "kernelspec": {
   "display_name": "Python 3",
   "language": "python",
   "name": "python3"
  },
  "language_info": {
   "codemirror_mode": {
    "name": "ipython",
    "version": 3
   },
   "file_extension": ".py",
   "mimetype": "text/x-python",
   "name": "python",
   "nbconvert_exporter": "python",
   "pygments_lexer": "ipython3",
   "version": "3.13.1"
  }
 },
 "nbformat": 4,
 "nbformat_minor": 2
}
